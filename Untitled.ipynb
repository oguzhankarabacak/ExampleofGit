{
 "cells": [
  {
   "cell_type": "code",
   "execution_count": 1,
   "id": "05a416f8",
   "metadata": {},
   "outputs": [
    {
     "name": "stdout",
     "output_type": "stream",
     "text": [
      "a = 2.881215464764268\n",
      "b = 4.765193397320097\n"
     ]
    }
   ],
   "source": [
    "import numpy as np\n",
    "\n",
    "# Given data\n",
    "x = np.array([2, 1, 4, 5, 6, 5, 7, 7, 9, 10])\n",
    "y = np.array([11, 6, 18, 20, 24, 18, 26, 23, 28, 35])\n",
    "\n",
    "# Normalize the data\n",
    "x_normalized = (x - np.mean(x)) / np.std(x)\n",
    "y_normalized = (y - np.mean(y)) / np.std(y)\n",
    "\n",
    "a,b = 0,0\n",
    "\n",
    "for k in range(1000):\n",
    "    # Calculate predictions\n",
    "    y_pred = a * x_normalized + b\n",
    "\n",
    "    # Calculate gradients\n",
    "    a_grad = (2 / len(x)) * np.sum((y_pred - y_normalized) * x_normalized)\n",
    "    b_grad = (2 / len(x)) * np.sum(y_pred - y_normalized)\n",
    "\n",
    "    # Update parameters\n",
    "    a -= 0.01 * grad_a\n",
    "    b -= 0.01 * grad_b\n",
    "\n",
    "a = a * (np.std(y) / np.std(x))\n",
    "b = np.mean(y) - a * np.mean(x)\n",
    "\n",
    "# Print the parameters\n",
    "print(\"a =\", a)\n",
    "print(\"b =\", b)\n"
   ]
  },
  {
   "cell_type": "code",
   "execution_count": null,
   "id": "53c57a15",
   "metadata": {},
   "outputs": [],
   "source": []
  }
 ],
 "metadata": {
  "kernelspec": {
   "display_name": "Python 3 (ipykernel)",
   "language": "python",
   "name": "python3"
  },
  "language_info": {
   "codemirror_mode": {
    "name": "ipython",
    "version": 3
   },
   "file_extension": ".py",
   "mimetype": "text/x-python",
   "name": "python",
   "nbconvert_exporter": "python",
   "pygments_lexer": "ipython3",
   "version": "3.9.13"
  }
 },
 "nbformat": 4,
 "nbformat_minor": 5
}
